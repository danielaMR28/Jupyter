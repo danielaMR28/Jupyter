{
 "cells": [
  {
   "cell_type": "markdown",
   "id": "72a45f44-555e-4635-83fb-076e79e9bd7f",
   "metadata": {},
   "source": [
    "# Data Science Tools and Ecosystem"
   ]
  },
  {
   "cell_type": "markdown",
   "id": "2e879db6-c86e-43c3-afed-b4424ebd8277",
   "metadata": {},
   "source": [
    "In this notebook, Data Science Tools and Ecosystem are summarized."
   ]
  },
  {
   "cell_type": "markdown",
   "id": "3f2d1f19-3271-46fd-bd1e-4ab83872f215",
   "metadata": {},
   "source": [
    "Some of the popular languages that Data Scientists use are:"
   ]
  },
  {
   "cell_type": "markdown",
   "id": "ca26acab-58f7-4566-ae99-663bf3ee221b",
   "metadata": {},
   "source": [
    "1. Python\n",
    "2. R\n",
    "3. Julia"
   ]
  },
  {
   "cell_type": "markdown",
   "id": "520d8997-835b-4882-8a45-84d2215c3f6e",
   "metadata": {},
   "source": [
    "Some of the commonly used libraries used by Data Scientists include:"
   ]
  },
  {
   "cell_type": "markdown",
   "id": "a802d43c-240f-42d8-8f5f-d45c95911025",
   "metadata": {},
   "source": [
    "1. ggplot\n",
    "2. seaborn\n",
    "3. numpy"
   ]
  },
  {
   "cell_type": "markdown",
   "id": "4380c2f0-abbb-4e3a-b20e-48ed89f7576c",
   "metadata": {},
   "source": [
    "|Data Science Tools|\n",
    "-----\n",
    "|R Studio|\n",
    "|Jupyter|\n",
    "|Anaconda|\n"
   ]
  },
  {
   "cell_type": "markdown",
   "id": "7e0694ca-1cc8-4716-af03-3000a8be3b08",
   "metadata": {},
   "source": [
    "### Below are a few examples of evaluating arithmetic expressions in Python.\n"
   ]
  },
  {
   "cell_type": "code",
   "execution_count": 2,
   "id": "2a2505dc-0e00-417a-95dd-f113bf613a7b",
   "metadata": {},
   "outputs": [
    {
     "data": {
      "text/plain": [
       "17"
      ]
     },
     "execution_count": 2,
     "metadata": {},
     "output_type": "execute_result"
    }
   ],
   "source": [
    "#This a simple arithmetic expression to mutiply then add integers\n",
    "(3*4)+5"
   ]
  },
  {
   "cell_type": "code",
   "execution_count": 3,
   "id": "4444e82a-d62d-48d8-bf31-131b3b87bb3b",
   "metadata": {},
   "outputs": [
    {
     "data": {
      "text/plain": [
       "3.3333333333333335"
      ]
     },
     "execution_count": 3,
     "metadata": {},
     "output_type": "execute_result"
    }
   ],
   "source": [
    "#This will convert 200 minutes to hours by diving by 60\n",
    "200/60"
   ]
  },
  {
   "cell_type": "markdown",
   "id": "d58e9363-b45c-4a1b-9497-894f55bba838",
   "metadata": {},
   "source": [
    "**Objectives:**"
   ]
  },
  {
   "cell_type": "markdown",
   "id": "d42cd48e-7af3-4383-b003-aa2845b6f38d",
   "metadata": {},
   "source": [
    "* List popular languages for Data Science\n",
    "* List tools for Data Science\n",
    "* List libraries for Data Science"
   ]
  },
  {
   "cell_type": "markdown",
   "id": "262a71c1-7d55-4292-996e-1668d62af443",
   "metadata": {},
   "source": [
    "## Author\n",
    "Daniela Mejía Rivas"
   ]
  },
  {
   "cell_type": "code",
   "execution_count": null,
   "id": "55065858-a9be-44ca-8eed-9f48a41b3b93",
   "metadata": {},
   "outputs": [],
   "source": []
  }
 ],
 "metadata": {
  "kernelspec": {
   "display_name": "Python 3 (ipykernel)",
   "language": "python",
   "name": "python3"
  },
  "language_info": {
   "codemirror_mode": {
    "name": "ipython",
    "version": 3
   },
   "file_extension": ".py",
   "mimetype": "text/x-python",
   "name": "python",
   "nbconvert_exporter": "python",
   "pygments_lexer": "ipython3",
   "version": "3.11.9"
  }
 },
 "nbformat": 4,
 "nbformat_minor": 5
}
